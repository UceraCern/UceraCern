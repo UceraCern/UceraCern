{
  "nbformat": 4,
  "nbformat_minor": 0,
  "metadata": {
    "colab": {
      "name": "Домашнее задание к лекции «Функции».ipynb",
      "provenance": [],
      "collapsed_sections": [],
      "authorship_tag": "ABX9TyM6pBeAXRf03zo7q5g8WNsz",
      "include_colab_link": true
    },
    "kernelspec": {
      "name": "python3",
      "display_name": "Python 3"
    },
    "language_info": {
      "name": "python"
    }
  },
  "cells": [
    {
      "cell_type": "markdown",
      "metadata": {
        "id": "view-in-github",
        "colab_type": "text"
      },
      "source": [
        "<a href=\"https://colab.research.google.com/github/UceraCern/UceraCern/blob/main/%D0%94%D0%BE%D0%BC%D0%B0%D1%88%D0%BD%D0%B5%D0%B5_%D0%B7%D0%B0%D0%B4%D0%B0%D0%BD%D0%B8%D0%B5_%D0%BA_%D0%BB%D0%B5%D0%BA%D1%86%D0%B8%D0%B8_%C2%AB%D0%A4%D1%83%D0%BD%D0%BA%D1%86%D0%B8%D0%B8%C2%BB.ipynb\" target=\"_parent\"><img src=\"https://colab.research.google.com/assets/colab-badge.svg\" alt=\"Open In Colab\"/></a>"
      ]
    },
    {
      "cell_type": "markdown",
      "source": [
        "Пункт 1. Пользователь по команде \"p\" может узнать владельца документа по его номеру\n",
        "Примеры работы:\n",
        "\n",
        "1.\n",
        "\n",
        "Введите команду:\n",
        "p\n",
        "\n",
        "Введите номер документа:\n",
        "10006\n",
        "Результат:\n",
        "Владелец документа: Аристарх Павлов\n",
        "\n",
        "2.\n",
        "\n",
        "Введите команду:\n",
        "p\n",
        "\n",
        "Введите номер документа:\n",
        "12345\n",
        "Результат:\n",
        "Документ не найден в базе"
      ],
      "metadata": {
        "id": "-_LAzQIxGLTT"
      }
    },
    {
      "cell_type": "markdown",
      "source": [
        "Пункт 2. Пользователь по команде \"s\" может по номеру документа узнать на какой полке он хранится\n",
        "Примеры работы:\n",
        "\n",
        "1.\n",
        "\n",
        "Введите команду:\n",
        "s\n",
        "\n",
        "Введите номер документа:\n",
        "10006\n",
        "Результат:\n",
        "Документ хранится на полке: 2\n",
        "\n",
        "2.\n",
        "\n",
        "Введите команду:\n",
        "s\n",
        "\n",
        "Введите номер документа:\n",
        "12345\n",
        "Результат:\n",
        "Документ не найден в базе"
      ],
      "metadata": {
        "id": "gOwWUUf1GQS6"
      }
    },
    {
      "cell_type": "markdown",
      "source": [
        "Пункт 3. Пользователь по команде \"l\" может увидеть полную информацию по всем документам\n",
        "Пример работы:\n",
        "\n",
        "Введите команду:\n",
        "l\n",
        "Результат:\n",
        "\n",
        "№: 2207 876234, тип: passport, владелец: Василий Гупкин, полка хранения: 1\n",
        "№: 11-2, тип: invoice, владелец: Геннадий Покемонов, полка хранения: 1\n",
        "№: 10006, тип: insurance, владелец: Аристарх Павлов, полка хранения: 2"
      ],
      "metadata": {
        "id": "IipHo6_XGRiF"
      }
    },
    {
      "cell_type": "markdown",
      "source": [
        "Пункт 4. Пользователь по команде \"ads\" может добавить новую полку\n",
        "\n",
        "Примеры работы:\n",
        "\n",
        "1.\n",
        "\n",
        "Введите команду:\n",
        "ads\n",
        "\n",
        "Введите номер полки:\n",
        "10\n",
        "Результат:\n",
        "Полка добавлена. Текущий перечень полок: 1, 2, 3, 10.\n",
        "\n",
        "2.\n",
        "\n",
        "Введите команду:\n",
        "ads\n",
        "\n",
        "Введите номер полки:\n",
        "1\n",
        "Результат:\n",
        "Такая полка уже существует. Текущий перечень полок: 1, 2, 3."
      ],
      "metadata": {
        "id": "D32Ieqp1GWfk"
      }
    },
    {
      "cell_type": "markdown",
      "source": [
        "Пункт 5. Пользователь по команде \"ds\" может удалить существующую полку из данных (только если она пустая)\n",
        "Примеры работы:\n",
        "\n",
        "1.\n",
        "\n",
        "Введите команду:\n",
        "ds\n",
        "\n",
        "Введите номер полки:\n",
        "3\n",
        "Результат:\n",
        "Полка удалена. Текущий перечень полок: 1, 2.\n",
        "\n",
        "2.\n",
        "\n",
        "Введите команду:\n",
        "ds\n",
        "\n",
        "Введите номер полки:\n",
        "1\n",
        "Результат:\n",
        "На полке есть документа, удалите их перед удалением полки. Текущий перечень полок: 1, 2, 3.\n",
        "\n",
        "3.\n",
        "\n",
        "Введите команду:\n",
        "ds\n",
        "\n",
        "Введите номер полки:\n",
        "4\n",
        "Результат:\n",
        "Такой полки не существует. Текущий перечень полок: 1, 2, 3."
      ],
      "metadata": {
        "id": "P4LPaqL1GY83"
      }
    },
    {
      "cell_type": "code",
      "execution_count": 8,
      "metadata": {
        "id": "K5H1oTa1Chdx"
      },
      "outputs": [],
      "source": [
        "documents = [\n",
        " {'type': 'passport', 'number': '2207 876234', 'name': 'Василий Гупкин'},\n",
        " {'type': 'invoice', 'number': '11-2', 'name': 'Геннадий Покемонов'},\n",
        " {'type': 'insurance', 'number': '10006', 'name': 'Аристарх Павлов'}\n",
        "]"
      ]
    },
    {
      "cell_type": "code",
      "source": [
        "directories = {\n",
        "'1': ['2207 876234', '11-2'],\n",
        "'2': ['10006'],\n",
        "'3': []\n",
        "}\n"
      ],
      "metadata": {
        "id": "hGri-YWdLFUT"
      },
      "execution_count": 35,
      "outputs": []
    },
    {
      "cell_type": "code",
      "source": [
        "#ГОТОВО!!! полные сведения\n",
        "def l():\n",
        "    for x in documents:\n",
        "       result = []     \n",
        "       for key, values in directories.items():\n",
        "            if isinstance(values, list):\n",
        "                for city in values:\n",
        "                    if city == str(x[\"number\"]):\n",
        "                        result.append(key)\n",
        "                        break\n",
        "       if len(result) == 1:\n",
        "              print('№:', x[\"number\"], ', тип:', x['type'], ', владелец:', x['name'], ', полка хранения: ', ''.join(result), sep='')\n",
        "       else:\n",
        "              print('№:', x[\"number\"], ', тип:', x['type'], ', владелец:', x['name'], ', полка хранения: ', str(result), sep='')"
      ],
      "metadata": {
        "id": "8fzbWKTtlqPq"
      },
      "execution_count": 37,
      "outputs": []
    },
    {
      "cell_type": "code",
      "source": [
        "#ГОТОВО!!! поиск фамилии\n",
        "def p():\n",
        "   doc = input('Введите номер документа:')\n",
        "   result2 = []\n",
        "   result2.append(next((x['name'] for x in documents if x[\"number\"] == doc ),'0'))\n",
        "   if result2[0] == '0':\n",
        "       print('Документ не найден в базе')\n",
        "   else:  \n",
        "       print('Владелец документа:', ''.join(result2))"
      ],
      "metadata": {
        "id": "DaBlft0fM1yM"
      },
      "execution_count": 38,
      "outputs": []
    },
    {
      "cell_type": "code",
      "source": [
        "#ГОТОВО!!! поиск полки\n",
        "def s(): \n",
        "    polka = input('Введите номер документа:')\n",
        "    result = []\n",
        "    for key, values in directories.items():\n",
        "        if isinstance(values, list):\n",
        "            for city in values:\n",
        "               \n",
        "                if city == polka:\n",
        "                    result.append(key)\n",
        "                    break\n",
        "    if len(result) == 0:\n",
        "        print('Документ не найден в базе')\n",
        "    elif len(result) == 1:\n",
        "        print('Документ хранится на полке: ', ''.join(result))\n",
        "    else:\n",
        "        print('Документ хранится на полках: ', str(result))"
      ],
      "metadata": {
        "id": "zSk6W9Nm1oy9"
      },
      "execution_count": 39,
      "outputs": []
    },
    {
      "cell_type": "code",
      "source": [
        "#ГОТОВО!!! добавление полки\n",
        "def ads():\n",
        "    app = input('Введите номер полки:')\n",
        "    for key, values in directories.items():\n",
        "           if key == app:\n",
        "                  print('Такая полка уже существует. Текущий перечень полок:',','.join(directories.keys())) \n",
        "                  break\n",
        "    if key != app:\n",
        "        directories[app]=[]\n",
        "        print('Полка добавлена. Текущий перечень полок:',','.join(directories.keys()))"
      ],
      "metadata": {
        "id": "l3t9yOGkT38P"
      },
      "execution_count": 40,
      "outputs": []
    },
    {
      "cell_type": "code",
      "source": [
        "#ГОТОВО!!! удаление полки\n",
        "def ds():\n",
        "    de = input('Введите номер полки:')\n",
        "    for key, values in directories.items():\n",
        "         if (de in directories) == False:\n",
        "              print('Такой полки не существует. Текущий перечень полок: ',','.join(directories.keys()))                  \n",
        "         elif len(directories[de]) != 0:\n",
        "              print('На полке есть документа, удалите их перед удалением полки. Текущий перечень полок: ', ','.join(directories.keys()))                  \n",
        "         else:\n",
        "              directories.pop(de)\n",
        "              print('Полка удалена. Текущий перечень полок:',','.join(directories.keys()))\n",
        "         break"
      ],
      "metadata": {
        "id": "WIAD-SFIGWJy"
      },
      "execution_count": 36,
      "outputs": []
    },
    {
      "cell_type": "code",
      "source": [
        "#ГОТОВО!!! итоговая сводка\n",
        "def name() :\n",
        "   com = input('Введите команду:')\n",
        "   if com == 'p':\n",
        "      p()\n",
        "   elif com == 's':\n",
        "      s()  \n",
        "   elif com == 'l':\n",
        "      l()  \n",
        "   elif com == 'ads':\n",
        "      ads() \n",
        "   elif com == 'ds':\n",
        "      ds() \n",
        "   else:\n",
        "      print ('Введите другую команду')"
      ],
      "metadata": {
        "id": "S_xmj_SpARBM"
      },
      "execution_count": 46,
      "outputs": []
    },
    {
      "cell_type": "code",
      "source": [
        "name()"
      ],
      "metadata": {
        "colab": {
          "base_uri": "https://localhost:8080/"
        },
        "id": "7rJsJ3e3alJF",
        "outputId": "4a0fe8c5-1c5c-4c37-cef8-0432718ed1e8"
      },
      "execution_count": 45,
      "outputs": [
        {
          "output_type": "stream",
          "name": "stdout",
          "text": [
            "Введите команду:ds\n",
            "Введите номер полки:10\n",
            "Полка удалена. Текущий перечень полок: 1,2,3\n"
          ]
        }
      ]
    }
  ]
}